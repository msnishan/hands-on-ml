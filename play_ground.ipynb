{
 "cells": [
  {
   "cell_type": "code",
   "execution_count": 1,
   "id": "bb5f6d36-0f21-4cb1-9b9f-5eadf0f7b699",
   "metadata": {
    "tags": []
   },
   "outputs": [],
   "source": [
    "import pandas as pd\n",
    "import numpy as np"
   ]
  },
  {
   "cell_type": "code",
   "execution_count": 2,
   "id": "7336273b-edda-439a-af3c-499b8e8ea786",
   "metadata": {
    "tags": []
   },
   "outputs": [
    {
     "name": "stdout",
     "output_type": "stream",
     "text": [
      "    0\n",
      "0   3\n",
      "1   4\n",
      "2  56\n",
      "3   2\n",
      "4   5\n",
      "5   5\n",
      "6   3\n",
      "7   7\n",
      "8   4\n",
      "9  54\n"
     ]
    }
   ],
   "source": [
    "arr = pd.DataFrame([3,4,56,2,5,5,3,7,4,54])\n",
    "print(arr)"
   ]
  },
  {
   "cell_type": "code",
   "execution_count": 3,
   "id": "6633189d-5354-4d7c-8ab1-25d82b5b8cbc",
   "metadata": {
    "tags": []
   },
   "outputs": [
    {
     "name": "stdout",
     "output_type": "stream",
     "text": [
      "[3 9 6 5 8 0 4 7 2 1]\n"
     ]
    }
   ],
   "source": [
    "s_idxs = np.random.permutation(len(arr))\n",
    "print(s_idxs)"
   ]
  },
  {
   "cell_type": "code",
   "execution_count": 4,
   "id": "61c28300-d8ac-41af-ab07-ecca09b4bc11",
   "metadata": {
    "tags": []
   },
   "outputs": [
    {
     "name": "stdout",
     "output_type": "stream",
     "text": [
      "3\n"
     ]
    }
   ],
   "source": [
    "train_set = int(0.3*len(arr))\n",
    "print(train_set)"
   ]
  },
  {
   "cell_type": "code",
   "execution_count": 5,
   "id": "41e32102-13db-493b-8602-c7e3fe42fec4",
   "metadata": {
    "tags": []
   },
   "outputs": [
    {
     "name": "stdout",
     "output_type": "stream",
     "text": [
      "[3 9 6]\n",
      "[5 8 0 4 7 2 1]\n"
     ]
    }
   ],
   "source": [
    "test = s_idxs[:train_set]\n",
    "train = s_idxs[train_set:]\n",
    "print(test)\n",
    "print(train)"
   ]
  },
  {
   "cell_type": "code",
   "execution_count": 6,
   "id": "a90016f2-2523-4d19-85c6-9d12ad5b0264",
   "metadata": {
    "tags": []
   },
   "outputs": [
    {
     "name": "stdout",
     "output_type": "stream",
     "text": [
      "3\n",
      "    0\n",
      "3   2\n",
      "9  54\n",
      "6   3\n"
     ]
    }
   ],
   "source": [
    "test_data = arr.iloc[test]\n",
    "train_data = arr.iloc[train]\n",
    "print(len(test_data))\n",
    "print(test_data)\n",
    "## print(len(train_data))"
   ]
  },
  {
   "cell_type": "code",
   "execution_count": 7,
   "id": "44697678-5b31-4f8c-a348-a93e3304101e",
   "metadata": {
    "tags": []
   },
   "outputs": [
    {
     "data": {
      "text/plain": [
       "array([32, 43, 54, 55], dtype=int64)"
      ]
     },
     "execution_count": 7,
     "metadata": {},
     "output_type": "execute_result"
    }
   ],
   "source": [
    "np.int64([32, 43, 54, 55])"
   ]
  },
  {
   "cell_type": "code",
   "execution_count": 8,
   "id": "7549ee23-bb5f-49ce-8151-4d965e1b4373",
   "metadata": {
    "tags": []
   },
   "outputs": [
    {
     "data": {
      "text/plain": [
       "True"
      ]
     },
     "execution_count": 8,
     "metadata": {},
     "output_type": "execute_result"
    }
   ],
   "source": [
    "from zlib import crc32\n",
    "crc32(np.int64(10000)) < 0.3 * 2**32"
   ]
  },
  {
   "cell_type": "code",
   "execution_count": 9,
   "id": "81790580-afc4-42f6-a854-f55911fc1f6b",
   "metadata": {
    "tags": []
   },
   "outputs": [
    {
     "name": "stdout",
     "output_type": "stream",
     "text": [
      "[[0. 0. 1. 0.]\n",
      " [1. 0. 0. 0.]\n",
      " [0. 1. 0. 0.]\n",
      " [0. 0. 0. 1.]]\n"
     ]
    }
   ],
   "source": [
    "from sklearn.preprocessing import OneHotEncoder\n",
    "import numpy as np\n",
    "\n",
    "# create an example dataset of categorical variables\n",
    "data = np.array([['red'], ['blue'], ['green'], ['yellow']])\n",
    "\n",
    "# create the OneHotEncoder object\n",
    "encoder = OneHotEncoder()\n",
    "\n",
    "# fit the encoder to the data and transform the data\n",
    "encoded_data = encoder.fit_transform(data)\n",
    "\n",
    "# print the encoded data\n",
    "print(encoded_data.toarray())"
   ]
  },
  {
   "cell_type": "code",
   "execution_count": 10,
   "id": "a6438d0f-061c-4ff9-81a4-ce67e6ab4567",
   "metadata": {
    "tags": []
   },
   "outputs": [
    {
     "name": "stdout",
     "output_type": "stream",
     "text": [
      "Mean: [4. 5. 6.]\n",
      "Standard deviation: [6. 6. 6.]\n"
     ]
    }
   ],
   "source": [
    "from sklearn.preprocessing import StandardScaler\n",
    "import numpy as np\n",
    "\n",
    "# create an example dataset of numerical data\n",
    "data = np.array([[1, 2, 3], [4, 5, 6], [7, 8, 9]])\n",
    "\n",
    "# create a StandardScaler object\n",
    "scaler = StandardScaler()\n",
    "\n",
    "# fit the scaler to the data to calculate the mean and standard deviation of each feature\n",
    "scaler.fit(data)\n",
    "\n",
    "# print the mean and standard deviation of each feature\n",
    "print(\"Mean:\", scaler.mean_)\n",
    "print(\"Standard deviation:\", scaler.var_)"
   ]
  },
  {
   "cell_type": "code",
   "execution_count": 11,
   "id": "7c25b41e-3757-4554-bd4b-987a96446854",
   "metadata": {
    "tags": []
   },
   "outputs": [
    {
     "name": "stdout",
     "output_type": "stream",
     "text": [
      "[[-1.22474487 -1.22474487 -1.22474487]\n",
      " [ 0.          0.          0.        ]\n",
      " [ 1.22474487  1.22474487  1.22474487]]\n"
     ]
    }
   ],
   "source": [
    "from sklearn.preprocessing import StandardScaler\n",
    "import numpy as np\n",
    "\n",
    "# create an example dataset of numerical data\n",
    "data = np.array([[1, 2, 3], [4, 5, 6], [7, 8, 9]])\n",
    "\n",
    "# create a StandardScaler object and fit it to the data\n",
    "scaler = StandardScaler()\n",
    "scaler.fit(data)\n",
    "\n",
    "# transform the data using the fitted scaler\n",
    "transformed_data = scaler.transform(data)\n",
    "\n",
    "# print the transformed data\n",
    "print(transformed_data)"
   ]
  },
  {
   "cell_type": "code",
   "execution_count": 12,
   "id": "95a8831f-31c8-428e-8452-c5cb51744ffb",
   "metadata": {},
   "outputs": [
    {
     "name": "stdout",
     "output_type": "stream",
     "text": [
      "[[1. 2.]\n",
      " [3. 4.]]\n"
     ]
    },
    {
     "data": {
      "text/plain": [
       "array([[1.],\n",
       "       [3.]])"
      ]
     },
     "execution_count": 12,
     "metadata": {},
     "output_type": "execute_result"
    }
   ],
   "source": [
    "rr = np.array([[1.,2.], [3.,4.]])\n",
    "print(rr)\n",
    "pp = rr[:,[0]]\n",
    "pp"
   ]
  },
  {
   "cell_type": "code",
   "execution_count": 13,
   "id": "e7b3bb80-b3b5-4f5e-adfa-0e25d26350bf",
   "metadata": {
    "tags": []
   },
   "outputs": [
    {
     "data": {
      "text/plain": [
       "(3, 3)"
      ]
     },
     "execution_count": 13,
     "metadata": {},
     "output_type": "execute_result"
    }
   ],
   "source": [
    "data.shape"
   ]
  },
  {
   "cell_type": "code",
   "execution_count": 14,
   "id": "76065d9a-cb94-4ea9-ba5a-0d6bc43196ed",
   "metadata": {
    "tags": []
   },
   "outputs": [
    {
     "name": "stdout",
     "output_type": "stream",
     "text": [
      "Cluster centers:\n",
      " [[1.16666667 1.46666667]\n",
      " [7.33333333 9.        ]]\n",
      "Labels:\n",
      " [0 0 1 1 0 1]\n"
     ]
    },
    {
     "name": "stderr",
     "output_type": "stream",
     "text": [
      "C:\\Users\\KHANDEKAR SALEH\\AppData\\Local\\Programs\\Python\\Python310\\lib\\site-packages\\sklearn\\cluster\\_kmeans.py:870: FutureWarning: The default value of `n_init` will change from 10 to 'auto' in 1.4. Set the value of `n_init` explicitly to suppress the warning\n",
      "  warnings.warn(\n"
     ]
    }
   ],
   "source": [
    "from sklearn.cluster import KMeans\n",
    "import numpy as np\n",
    "\n",
    "# Create a 2D numpy array\n",
    "X = np.array([[1, 2], [1.5, 1.8], [5, 8], [8, 8], [1, 0.6], [9, 11]])\n",
    "\n",
    "# Create an instance of the KMeans class\n",
    "kmeans = KMeans(n_clusters=2, random_state=0)\n",
    "\n",
    "# Fit the KMeans model to the data\n",
    "kmeans.fit(X)\n",
    "\n",
    "# Get the cluster centers\n",
    "centers = kmeans.cluster_centers_\n",
    "\n",
    "# Assign each data point to a cluster\n",
    "labels = kmeans.predict(X)\n",
    "\n",
    "# Print the cluster centers and labels\n",
    "print(\"Cluster centers:\\n\", centers)\n",
    "print(\"Labels:\\n\", labels)"
   ]
  },
  {
   "cell_type": "code",
   "execution_count": 15,
   "id": "ebf03dca-3875-44e7-b8b6-86edf02298cb",
   "metadata": {},
   "outputs": [
    {
     "data": {
      "text/plain": [
       "<matplotlib.collections.LineCollection at 0x289f4071fc0>"
      ]
     },
     "execution_count": 15,
     "metadata": {},
     "output_type": "execute_result"
    },
    {
     "data": {
      "image/png": "[encoded data removed]",
      "text/plain": [
       "<Figure size 640x480 with 1 Axes>"
      ]
     },
     "metadata": {},
     "output_type": "display_data"
    }
   ],
   "source": [
    "import matplotlib.pyplot as plt\n",
    "\n",
    "x = [1, 2, 3, 4, 5]\n",
    "y = [10, 20, 30, 40, 50]\n",
    "\n",
    "fig, ax = plt.subplots()\n",
    "ax.plot(x, y)\n",
    "# ax.vlines(3, ymin=0, ymax=35, colors='r', linestyles='dashed')\n",
    "ax.vlines(x, 0, 50.0, \"k\", \"dotted\", label=\"threshold\")"
   ]
  },
  {
   "cell_type": "code",
   "execution_count": null,
   "id": "2fa3e900-491b-44a6-8f13-b6d7c3ee7513",
   "metadata": {},
   "outputs": [],
   "source": []
  }
 ],
 "metadata": {
  "kernelspec": {
   "display_name": "Python 3 (ipykernel)",
   "language": "python",
   "name": "python3"
  },
  "language_info": {
   "codemirror_mode": {
    "name": "ipython",
    "version": 3
   },
   "file_extension": ".py",
   "mimetype": "text/x-python",
   "name": "python",
   "nbconvert_exporter": "python",
   "pygments_lexer": "ipython3",
   "version": "3.10.2"
  }
 },
 "nbformat": 4,
 "nbformat_minor": 5
}
